{
 "cells": [
  {
   "cell_type": "code",
   "execution_count": 1,
   "id": "d576a8d2-0984-49d3-b1cc-0ac9e7eee209",
   "metadata": {},
   "outputs": [
    {
     "name": "stderr",
     "output_type": "stream",
     "text": [
      "2024-06-20 14:06:41.708517: I tensorflow/core/platform/cpu_feature_guard.cc:210] This TensorFlow binary is optimized to use available CPU instructions in performance-critical operations.\n",
      "To enable the following instructions: AVX2 AVX512F FMA, in other operations, rebuild TensorFlow with the appropriate compiler flags.\n",
      "2024-06-20 14:06:42.592127: W tensorflow/compiler/tf2tensorrt/utils/py_utils.cc:38] TF-TRT Warning: Could not find TensorRT\n"
     ]
    }
   ],
   "source": [
    "import numpy as np\n",
    "import pandas as pd\n",
    "import tensorflow as tf\n",
    "from tensorflow import keras\n",
    "import joblib\n",
    "from sklearn.preprocessing import StandardScaler"
   ]
  },
  {
   "cell_type": "code",
   "execution_count": 18,
   "id": "2580a4c1-243c-4b3b-affa-1ab7f34fa5b5",
   "metadata": {},
   "outputs": [],
   "source": [
    "# Load the saved model\n",
    "model = keras.models.load_model(\"model_blocking_regr20_NN1.keras\")\n",
    "# Load the scaler\n",
    "scaler = joblib.load(\"scaler_blocking_regr20.save\")"
   ]
  },
  {
   "cell_type": "code",
   "execution_count": 21,
   "id": "d2c8b79f-3e48-4783-8567-8152825f2156",
   "metadata": {},
   "outputs": [],
   "source": [
    "unknown_data = pd.read_csv(\"blocking_dataset/unknown_data_regr_Gabr3.csv\", header = None)\n",
    "#unknown_data = pd.read_csv(\"blocking_dataset/unknown_data_regr_Gabr_repeat6.csv\", header = None)\n",
    "unknown_features = unknown_data.iloc[:,1:]\n",
    "unknown_features_full = np.array(unknown_features)\n",
    "unknown_features_full = scaler.transform(unknown_features_full)"
   ]
  },
  {
   "cell_type": "code",
   "execution_count": 22,
   "id": "5ff3ca9d-d4a4-4626-9e4d-285bb8b0df7f",
   "metadata": {},
   "outputs": [
    {
     "name": "stdout",
     "output_type": "stream",
     "text": [
      "\u001b[1m1/1\u001b[0m \u001b[32m━━━━━━━━━━━━━━━━━━━━\u001b[0m\u001b[37m\u001b[0m \u001b[1m0s\u001b[0m 22ms/step\n",
      "[[0.5649967]]\n"
     ]
    }
   ],
   "source": [
    "# Making predictions\n",
    "X_new = unknown_features_full\n",
    "y_pred = model.predict(X_new)\n",
    "print(y_pred)"
   ]
  },
  {
   "cell_type": "markdown",
   "id": "49809b57-7960-4966-850a-aac57e9879b1",
   "metadata": {},
   "source": []
  }
 ],
 "metadata": {
  "kernelspec": {
   "display_name": "Python 3 (ipykernel)",
   "language": "python",
   "name": "python3"
  },
  "language_info": {
   "codemirror_mode": {
    "name": "ipython",
    "version": 3
   },
   "file_extension": ".py",
   "mimetype": "text/x-python",
   "name": "python",
   "nbconvert_exporter": "python",
   "pygments_lexer": "ipython3",
   "version": "3.10.12"
  }
 },
 "nbformat": 4,
 "nbformat_minor": 5
}
