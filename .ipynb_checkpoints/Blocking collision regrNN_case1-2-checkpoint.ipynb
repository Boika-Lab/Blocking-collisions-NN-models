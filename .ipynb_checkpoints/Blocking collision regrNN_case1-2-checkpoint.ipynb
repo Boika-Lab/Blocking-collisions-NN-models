{
 "cells": [
  {
   "cell_type": "code",
   "execution_count": null,
   "id": "e1c78a0d-d17e-4f5c-a589-a3efcb8b69bd",
   "metadata": {},
   "outputs": [],
   "source": [
    "import numpy as np\n",
    "import pandas as pd\n",
    "import tensorflow as tf\n",
    "from tensorflow import keras\n",
    "from sklearn.preprocessing import StandardScaler\n",
    "import matplotlib.pyplot as plt"
   ]
  },
  {
   "cell_type": "code",
   "execution_count": null,
   "id": "bbe796f5-1faf-4e75-a2cc-bc9c69549980",
   "metadata": {},
   "outputs": [],
   "source": [
    "#Load data\n",
    "train_data = pd.read_csv(\"blocking_dataset/train_data_regr20.csv\", header = None)\n",
    "test_data = pd.read_csv(\"blocking_dataset/test_data_regr20.csv\", header = None)\n",
    "unknown_data = pd.read_csv(\"blocking_dataset/unknown_data_regr_Gabr2.csv\", header = None)\n",
    "# Shuffle data\n",
    "train_data = train_data.sample(frac=1).reset_index(drop=True)\n",
    "test_data = test_data.sample(frac=1).reset_index(drop=True)"
   ]
  },
  {
   "cell_type": "code",
   "execution_count": null,
   "id": "c77d33d1-c75c-4c0d-b447-34a52278597b",
   "metadata": {},
   "outputs": [],
   "source": [
    "#train_data.head()\n",
    "test_data.head()"
   ]
  },
  {
   "cell_type": "code",
   "execution_count": null,
   "id": "93eb9b49-62e6-41fb-9152-28f234832600",
   "metadata": {},
   "outputs": [],
   "source": [
    "train_features = train_data.iloc[:,1:]\n",
    "train_labels = train_data.iloc[:,0]\n",
    "test_features = test_data.iloc[:,1:]\n",
    "test_labels = test_data.iloc[:,0]\n",
    "unknown_features = unknown_data.iloc[:,1:]"
   ]
  },
  {
   "cell_type": "code",
   "execution_count": null,
   "id": "1b713074-3731-43ee-a1aa-5d5c88076c21",
   "metadata": {},
   "outputs": [],
   "source": [
    "print(test_labels.head())\n",
    "print(type(test_labels))"
   ]
  },
  {
   "cell_type": "code",
   "execution_count": null,
   "id": "45e657d1-93bd-4ab7-812e-10db2bee6164",
   "metadata": {},
   "outputs": [],
   "source": [
    "train_features_full = np.array(train_features) \n",
    "train_labels_full = np.array(train_labels) \n",
    "test_features_full = np.array(test_features) \n",
    "test_labels_full = np.array(test_labels) \n",
    "unknown_features_full = np.array(unknown_features)"
   ]
  },
  {
   "cell_type": "code",
   "execution_count": null,
   "id": "ee817500-cc13-46b0-993b-b0f5ba41c1fd",
   "metadata": {},
   "outputs": [],
   "source": [
    "#scaling data\n",
    "scaler = StandardScaler()\n",
    "train_features_full=scaler.fit_transform(train_features_full)\n",
    "test_features_full = scaler.transform(test_features_full)\n",
    "unknown_features_full = scaler.transform(unknown_features_full)"
   ]
  },
  {
   "cell_type": "code",
   "execution_count": null,
   "id": "6f575542-986a-4c51-a380-7d14fed6e9b4",
   "metadata": {},
   "outputs": [],
   "source": [
    "print(test_features_full[0])"
   ]
  },
  {
   "cell_type": "code",
   "execution_count": null,
   "id": "b9c3c693-be84-41a8-b589-484b7230da2a",
   "metadata": {},
   "outputs": [],
   "source": [
    "#Defining validation data\n",
    "train_features_valid, train_features = train_features_full[:7425], train_features_full[7425:]\n",
    "train_labels_valid, train_labels = train_labels_full[:7425], train_labels_full[7425:]"
   ]
  },
  {
   "cell_type": "code",
   "execution_count": null,
   "id": "acf8c859-7d9f-4078-a6fe-f9d5cea92e6e",
   "metadata": {},
   "outputs": [],
   "source": [
    "#Defyning NN model\n",
    "model = keras.models.Sequential()\n",
    "model.add(keras.layers.InputLayer(input_shape = train_features_full.shape[1]))\n",
    "model.add(keras.layers.Dense(60, activation=\"relu\"))\n",
    "model.add(keras.layers.Dense(60, activation=\"relu\"))\n",
    "model.add(keras.layers.Dense(60, activation=\"relu\"))\n",
    "model.add(keras.layers.Dense(60, activation=\"relu\"))\n",
    "model.add(keras.layers.Dense(60, activation=\"relu\"))\n",
    "model.add(keras.layers.Dense(1))\n",
    "model.summary()"
   ]
  },
  {
   "cell_type": "code",
   "execution_count": null,
   "id": "ff610e16-4b97-4a4d-a9af-4bd370dfa3d4",
   "metadata": {},
   "outputs": [],
   "source": [
    "#Compile the model\n",
    "model.compile(loss=\"mean_squared_error\", optimizer=keras.optimizers.SGD(learning_rate = 0.005))"
   ]
  },
  {
   "cell_type": "code",
   "execution_count": null,
   "id": "59eac9dd-5d8e-4a5d-89a8-3c071ce460fe",
   "metadata": {},
   "outputs": [],
   "source": [
    "#Run training\n",
    "history = model.fit(train_features_full, train_labels_full, epochs=200, validation_data=(train_features_valid, train_labels_valid))"
   ]
  },
  {
   "cell_type": "code",
   "execution_count": null,
   "id": "f580a282-9147-4663-a197-0b1055231070",
   "metadata": {},
   "outputs": [],
   "source": [
    "model.evaluate(test_features_full, test_labels_full)"
   ]
  },
  {
   "cell_type": "code",
   "execution_count": null,
   "id": "d92145b6-8c45-47c8-8248-21ba9b0fe57e",
   "metadata": {},
   "outputs": [],
   "source": [
    "# Plotting training and validation loss\n",
    "history_df = pd.DataFrame(history.history)\n",
    "history_df.plot(figsize=(8, 5))\n",
    "plt.grid(True)\n",
    "plt.gca().set_ylim(0, 0.02)\n",
    "#plt.title('Training and Validation Loss')  # Set the title of the graph\n",
    "plt.xlabel('Epochs')  # Set the x-axis label\n",
    "plt.ylabel('Loss')  # Set the y-axis label\n",
    "plt.legend(['Training Loss', 'Validation Loss'])  # Explicitly define legend labels\n",
    "plt.show()"
   ]
  },
  {
   "cell_type": "code",
   "execution_count": null,
   "id": "38698f23-ddbb-4dd3-8608-f20727c25e91",
   "metadata": {},
   "outputs": [],
   "source": [
    "# Making predictions\n",
    "X_new = unknown_features_full\n",
    "y_pred = model.predict(X_new)\n",
    "print(y_pred)"
   ]
  },
  {
   "cell_type": "code",
   "execution_count": null,
   "id": "0f440b7f-defd-48d8-bfbc-01c0487875c7",
   "metadata": {},
   "outputs": [],
   "source": [
    "model.save(\"model_blocking_regr20_case1_2.keras\")"
   ]
  },
  {
   "cell_type": "code",
   "execution_count": null,
   "id": "c7cc0eef-3bb4-42c8-843c-4c1865efd0dc",
   "metadata": {},
   "outputs": [],
   "source": [
    "#Results with 60 neuron model lr_0.005 epochs_200 hidden_layers_5\n",
    "#[[0.4165249]]\n",
    "\n",
    "# Results with 91 neuron model lr_0.01 epochs_100\n",
    "#[[0.4036642]]\n"
   ]
  }
 ],
 "metadata": {
  "kernelspec": {
   "display_name": "Python 3 (ipykernel)",
   "language": "python",
   "name": "python3"
  },
  "language_info": {
   "codemirror_mode": {
    "name": "ipython",
    "version": 3
   },
   "file_extension": ".py",
   "mimetype": "text/x-python",
   "name": "python",
   "nbconvert_exporter": "python",
   "pygments_lexer": "ipython3",
   "version": "3.10.12"
  }
 },
 "nbformat": 4,
 "nbformat_minor": 5
}
