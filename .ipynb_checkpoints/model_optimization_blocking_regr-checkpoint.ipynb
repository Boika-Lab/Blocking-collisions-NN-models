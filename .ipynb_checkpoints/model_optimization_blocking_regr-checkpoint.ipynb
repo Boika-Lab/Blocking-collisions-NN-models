{
 "cells": [
  {
   "cell_type": "code",
   "execution_count": null,
   "id": "01a45430-67ac-4a9b-9ba7-1bfd99e58e6e",
   "metadata": {},
   "outputs": [],
   "source": [
    "#install required packages\n",
    "#!pip3 install --upgrade pip setuptools wheel\n",
    "#!pip3 install scikit-learn scipy keras pandas tensorflow numpy scikeras"
   ]
  },
  {
   "cell_type": "code",
   "execution_count": null,
   "id": "61fc0f24-d538-4cdb-a777-4c8b8c3daea7",
   "metadata": {},
   "outputs": [],
   "source": [
    "#import required libraries\n",
    "from sklearn.model_selection import train_test_split\n",
    "from sklearn.preprocessing import StandardScaler\n",
    "import scipy \n",
    "import keras\n",
    "import pandas as pd\n",
    "import tensorflow as tf\n",
    "import numpy as np\n",
    "import scikeras\n",
    "from scikeras.wrappers import KerasClassifier, KerasRegressor"
   ]
  },
  {
   "cell_type": "code",
   "execution_count": null,
   "id": "98bf7a5c-1526-4866-8d42-cd2b5e3eef10",
   "metadata": {},
   "outputs": [],
   "source": [
    "#Load data\n",
    "train_data = pd.read_csv(\"~/ML blocking collisions/blocking_dataset/train_data_regr20.csv\", header = None)\n",
    "test_data = pd.read_csv(\"~/ML blocking collisions/blocking_dataset/test_data_regr20.csv\", header = None)\n",
    "# Shuffle data\n",
    "train_data = train_data.sample(frac=1).reset_index(drop=True)\n",
    "test_data = test_data.sample(frac=1).reset_index(drop=True)\n",
    "#Select features and labels\n",
    "train_features = train_data.iloc[:,1:]\n",
    "train_labels = train_data.iloc[:,0]\n",
    "test_features = test_data.iloc[:,1:]\n",
    "test_labels = test_data.iloc[:,0]\n",
    "train_features_full = np.array(train_features)\n",
    "train_labels_full = np.array(train_labels)\n",
    "test_features_full = np.array(test_features)\n",
    "test_labels_full = np.array(test_labels)"
   ]
  },
  {
   "cell_type": "code",
   "execution_count": null,
   "id": "70ac8d19-888d-4e89-9996-3df012025f6f",
   "metadata": {},
   "outputs": [],
   "source": [
    "#split the data\n",
    "X_train, X_valid, y_train, y_valid = train_test_split(train_features_full, train_labels_full)\n",
    "X_test = test_features_full\n",
    "y_test = test_labels_full"
   ]
  },
  {
   "cell_type": "code",
   "execution_count": null,
   "id": "e9966a52-4143-492b-af67-2f3e43cd44b1",
   "metadata": {},
   "outputs": [],
   "source": [
    "#scale the data\n",
    "scaler = StandardScaler()\n",
    "X_train = scaler.fit_transform(X_train)\n",
    "X_valid = scaler.transform(X_valid)\n",
    "X_test = scaler.transform(X_test)"
   ]
  },
  {
   "cell_type": "code",
   "execution_count": null,
   "id": "05b1f0d4-c8bb-4b5e-8983-3205017a5ba4",
   "metadata": {},
   "outputs": [],
   "source": [
    "#build model\n",
    "def build_model(n_hidden = 1, n_neurons = 30, learning_rate = 3e-3, input_shape = X_train.shape[1:]):\n",
    "    model = keras.models.Sequential()\n",
    "    model.add(keras.layers.InputLayer(input_shape = input_shape))\n",
    "    for layer in range(n_hidden):\n",
    "        model.add(keras.layers.Dense(n_neurons, activation = \"relu\"))\n",
    "    model.add(keras.layers.Dense(1))\n",
    "    optimizer = keras.optimizers.SGD(learning_rate=learning_rate)\n",
    "    model.compile(loss = \"mse\", optimizer=optimizer)\n",
    "    return model"
   ]
  },
  {
   "cell_type": "code",
   "execution_count": null,
   "id": "a942dca1-cfba-4f02-8db7-c1e9a1611fdf",
   "metadata": {},
   "outputs": [],
   "source": [
    "#create a KerasRegressor\n",
    "#keras_reg = scikeras.wrappers.KerasRegressor(build_model)\n",
    "keras_reg = scikeras.wrappers.KerasRegressor(\n",
    "    build_model,\n",
    "    n_neurons=91,\n",
    "    n_hidden=3,\n",
    "    optimizer__lr=3e-3,  # just specify parameters here, you won't have to edit build_model to add/remove things you're tuning\n",
    "    optimizer=keras.optimizers.SGD,  # note that I am giving SciKeras a class, not an instance\n",
    "   loss=\"mse\",\n",
    ")"
   ]
  },
  {
   "cell_type": "code",
   "execution_count": null,
   "id": "b693c779-08cb-4b33-8139-ddbc77d0dd52",
   "metadata": {},
   "outputs": [],
   "source": [
    "keras_reg.fit(X_train, y_train,epochs = 100, validation_data = (X_valid,y_valid), callbacks = [keras.callbacks.EarlyStopping(patience=10)])\n",
    "mse_test = keras_reg.score(X_test, y_test)\n",
    "X_new = X_test\n",
    "y_pred = keras_reg.predict(X_new)"
   ]
  },
  {
   "cell_type": "code",
   "execution_count": null,
   "id": "bdbb029a-1f1c-438d-8936-34b1ad11c21e",
   "metadata": {},
   "outputs": [],
   "source": [
    "print(y_pred)\n",
    "print(y_test)"
   ]
  },
  {
   "cell_type": "code",
   "execution_count": null,
   "id": "73e89618-38e3-4ba9-b5a5-8df84f6e8ba4",
   "metadata": {},
   "outputs": [],
   "source": [
    "#explore\n",
    "from scipy.stats import reciprocal\n",
    "from sklearn.model_selection import RandomizedSearchCV\n",
    "\n",
    "param_distribs = {\n",
    "    \"n_hidden\": [0, 1, 2, 3, 4, 5],\n",
    "    #\"n_neurons\": np.arange(1, 100),\n",
    "    \"n_neurons\" : np.arange(1, 100, 10),\n",
    "    #\"optimizer__lr\": reciprocal(3e-4, 3e-2),\n",
    "    \"optimizer__lr\" : np.arange(3e-4, 3e-2, 0.3*(1e-2 - 1e-4)),\n",
    "}\n",
    "\n",
    "rnd_search_cv = RandomizedSearchCV(keras_reg, param_distribs, n_iter=10, cv=3)\n",
    "rnd_search_cv.fit(\n",
    "    X_train,\n",
    "    y_train,\n",
    "    epochs=25,\n",
    "    validation_data=(X_valid, y_valid),\n",
    "    callbacks=[keras.callbacks.EarlyStopping(patience=10)],\n",
    ")"
   ]
  },
  {
   "cell_type": "code",
   "execution_count": null,
   "id": "39ba652f-f698-4c8d-84b0-09cddefcc722",
   "metadata": {},
   "outputs": [],
   "source": [
    "rnd_search_cv.best_params_"
   ]
  },
  {
   "cell_type": "code",
   "execution_count": null,
   "id": "15ef43ed-c3bc-4a2f-ab6b-8352fbf1a1be",
   "metadata": {},
   "outputs": [],
   "source": [
    "#{'optimizer__lr': 0.01218, 'n_neurons': 91, 'n_hidden': 3}\n",
    "#{'optimizer__lr': 0.01515, 'n_neurons': 61, 'n_hidden': 5}"
   ]
  }
 ],
 "metadata": {
  "kernelspec": {
   "display_name": "Python 3 (ipykernel)",
   "language": "python",
   "name": "python3"
  },
  "language_info": {
   "codemirror_mode": {
    "name": "ipython",
    "version": 3
   },
   "file_extension": ".py",
   "mimetype": "text/x-python",
   "name": "python",
   "nbconvert_exporter": "python",
   "pygments_lexer": "ipython3",
   "version": "3.10.12"
  }
 },
 "nbformat": 4,
 "nbformat_minor": 5
}
