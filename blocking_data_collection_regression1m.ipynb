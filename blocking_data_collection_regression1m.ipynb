{
 "cells": [
  {
   "cell_type": "code",
   "execution_count": null,
   "id": "aa612fec-2164-4856-854c-6330a475fee5",
   "metadata": {
    "tags": []
   },
   "outputs": [],
   "source": [
    "import pandas as pd\n",
    "import numpy as np\n",
    "import matplotlib.pyplot as plt\n",
    "import sklearn as skl\n",
    "import random\n",
    "import scipy.stats as st\n",
    "from csv import writer\n",
    "%matplotlib inline\n",
    "N = 10 #number of collisions of each particle population; total number of collisions is 2N\n",
    "Cb = 3\n",
    "el_rad = 5E-6\n",
    "D = 0.7E-9\n",
    "F = 96485\n",
    "I_ss = 4*F*D*Cb*el_rad\n",
    "print(I_ss)"
   ]
  },
  {
   "cell_type": "code",
   "execution_count": null,
   "id": "94e0f653-1567-4c62-894a-72679f70360c",
   "metadata": {
    "tags": []
   },
   "outputs": [],
   "source": [
    "Rand = np.random.normal(loc=1.0, scale=0.333, size=N)\n",
    "print(type(Rand))\n",
    "plt.hist(Rand, bins = 20)"
   ]
  },
  {
   "cell_type": "code",
   "execution_count": null,
   "id": "e5f00635-b1ce-4267-966c-bfd0cbdac2cc",
   "metadata": {
    "tags": []
   },
   "outputs": [],
   "source": [
    "for i in range(N):\n",
    "    if Rand[i] < 0:\n",
    "        Rand[i] = 0\n",
    "    "
   ]
  },
  {
   "cell_type": "code",
   "execution_count": null,
   "id": "26ae775f-71ca-42a3-a533-63d5d0249c07",
   "metadata": {
    "tags": []
   },
   "outputs": [],
   "source": [
    "r_p=0.5E-6\n",
    "In=[]\n",
    "for i in range(N):\n",
    "    if Rand[i] > 1:\n",
    "        Fg = -0.7373*Rand[i]**3 + 4.0209*Rand[i]**2 - 7.3858*Rand[i] + 4.6088\n",
    "        current = 1.0806E-09*Fg*(r_p/el_rad)**2\n",
    "        In.append(current)\n",
    "    else:\n",
    "        Fg = 8.9921E-01*Rand[i]**3 - 8.7335E-01*Rand[i]**2 + 4.0039E-01*Rand[i] + 8.0542E-02\n",
    "        current = I_ss*Fg*(r_p/el_rad)**2\n",
    "        In.append(current)\n",
    "print(type(In))\n",
    "len(In)"
   ]
  },
  {
   "cell_type": "code",
   "execution_count": null,
   "id": "f3e52d9a-33d3-43e4-b48f-4b69f352e78b",
   "metadata": {
    "tags": []
   },
   "outputs": [],
   "source": [
    "plt.hist(In, bins=20)"
   ]
  },
  {
   "cell_type": "code",
   "execution_count": null,
   "id": "5b3f8f61-b6f3-4789-810d-38894476623c",
   "metadata": {
    "tags": []
   },
   "outputs": [],
   "source": [
    "av = sum(In)/N\n",
    "print(av)"
   ]
  },
  {
   "cell_type": "code",
   "execution_count": null,
   "id": "40f47ab0-2142-4cb9-acd5-918b352882b4",
   "metadata": {
    "tags": []
   },
   "outputs": [],
   "source": [
    "import statistics\n",
    "statistics.median(In)"
   ]
  },
  {
   "cell_type": "code",
   "execution_count": null,
   "id": "7ebfe48b-1f9f-4a17-a3fd-eeb34a3e0138",
   "metadata": {
    "tags": []
   },
   "outputs": [],
   "source": [
    "print(min(In))\n",
    "print(max(In))"
   ]
  },
  {
   "cell_type": "code",
   "execution_count": null,
   "id": "80f53f1a-e791-4315-b64b-dd8d1bcb1bda",
   "metadata": {
    "tags": []
   },
   "outputs": [],
   "source": [
    "n, b, patches = plt.hist(In, bins = 20)\n",
    "\n",
    "bin_max = np.where(n == n.max())\n",
    "\n",
    "print('maxbin', b[bin_max][0])"
   ]
  },
  {
   "cell_type": "code",
   "execution_count": null,
   "id": "a532dba1-8e4a-4836-9744-e04d8be0db1a",
   "metadata": {
    "tags": []
   },
   "outputs": [],
   "source": [
    "# Adding el_rad, Cb and D\n",
    "In.append(el_rad)\n",
    "In.append(Cb)\n",
    "In.append(D)\n",
    "df = pd.DataFrame(In)\n",
    "  \n",
    "# saving the dataframe\n",
    "df.to_csv('data_example2.csv')"
   ]
  },
  {
   "cell_type": "code",
   "execution_count": null,
   "id": "189bed6e-4c25-4f84-a84f-3ea7bed5d5d9",
   "metadata": {
    "tags": []
   },
   "outputs": [],
   "source": [
    "def conf_int(results):\n",
    "    interval = st.t.interval(alpha=0.95, df=len(results)-1, loc=np.mean(results), scale=st.sem(results))\n",
    "    return interval"
   ]
  },
  {
   "cell_type": "code",
   "execution_count": null,
   "id": "09253786-9b6a-4c91-81ef-8fdaecb7e5c6",
   "metadata": {
    "tags": []
   },
   "outputs": [],
   "source": [
    "def save_data(data, filename, label_av):\n",
    "    data_list = data\n",
    "    \n",
    "    data_list.insert(0, label_av)\n",
    "    # writing to csv file  \n",
    "    with open(filename, 'a', newline='') as f_object:  \n",
    "        # Pass the CSV  file object to the writer() function\n",
    "        writer_object = writer(f_object)\n",
    "        # Result - a writer object\n",
    "        # Pass the data in the list as an argument into the writerow() function\n",
    "        writer_object.writerow(data_list)  \n",
    "        # Close the file object\n",
    "        f_object.close()\n",
    "    return"
   ]
  },
  {
   "cell_type": "code",
   "execution_count": null,
   "id": "ca894468-3a31-494a-bd6f-604a7b953d00",
   "metadata": {
    "tags": []
   },
   "outputs": [],
   "source": [
    "runs = 20\n",
    "D_list = [2e-9, 1e-9,5e-10]\n",
    "Cb_list = [10, 5, 1]\n",
    "r_p1_list = [0.025e-6, 0.05e-6, 0.1e-6, 0.15e-6, 0.2e-6, 0.25e-6, 0.3e-6, 0.35e-6, 0.4e-6, 0.45e-6, 0.5e-6]\n",
    "r_p2_list = [0.03e-6, 0.055e-6, 0.105e-6, 0.155e-6, 0.205e-6, 0.255e-6, 0.305e-6, 0.355e-6, 0.405e-6, 0.455e-6, 0.505e-6]\n",
    "el_rad_list = [5e-6, 2.5e-6, 1e-6]\n",
    "In = []\n",
    "In_pass = []\n",
    "Av = []\n",
    "Med = []\n",
    "Max = []\n",
    "Min = []\n",
    "Bin_Max = []\n",
    "data_bank=[]\n",
    "\n",
    "for D in D_list:\n",
    "    for Cb in Cb_list:\n",
    "        for el_rad in el_rad_list:\n",
    "            for r_p1 in r_p1_list:\n",
    "                for r_p2 in r_p2_list:\n",
    "                    #\n",
    "                    I_ss=4*F*D*Cb*el_rad\n",
    "                \n",
    "                    for l in range(runs):\n",
    "                        Rand1 = np.random.normal(loc=1.0, scale=0.333, size=N)\n",
    "                        for i in range(N):\n",
    "                            if Rand1[i] < 0:\n",
    "                                Rand1[i] = 0\n",
    "                        for i in range(N):\n",
    "                            if Rand1[i] > 1:\n",
    "                                Fg1 = -0.73725*Rand1[i]**3 + 4.0209*Rand1[i]**2 - 7.3858*Rand1[i] + 4.6088\n",
    "                                current1 = I_ss*Fg1*(r_p1/el_rad)**2\n",
    "                                \n",
    "                                In.append(current1)\n",
    "                                \n",
    "                            else:\n",
    "                                Fg1 = 8.9921E-01*Rand1[i]**3 - 8.7335E-01*Rand1[i]**2 + 4.0039E-01*Rand1[i] + 8.0542E-02\n",
    "                                current1 = I_ss*Fg1*(r_p1/el_rad)**2\n",
    "                                \n",
    "                                In.append(current1)\n",
    "                                \n",
    "                        Rand2 = np.random.normal(loc=1.0, scale=0.333, size=N)\n",
    "                        for j in range(N):\n",
    "                            if Rand2[j] < 0:\n",
    "                                Rand2[j] = 0\n",
    "                        for j in range(N):\n",
    "                            if Rand2[j] > 1:\n",
    "                                Fg2 = -0.73725*Rand2[j]**3 + 4.0209*Rand2[j]**2 - 7.3858*Rand2[j] + 4.6088\n",
    "                                current2 = I_ss*Fg2*(r_p2/el_rad)**2\n",
    "                                \n",
    "                                In.append(current2)\n",
    "                                \n",
    "                            else:\n",
    "                                Fg2 = 8.9921E-01*Rand2[j]**3 - 8.7335E-01*Rand2[j]**2 + 4.0039E-01*Rand2[j] + 8.0542E-02\n",
    "                                current2 = I_ss*Fg2*(r_p2/el_rad)**2\n",
    "                                \n",
    "                                In.append(current2)\n",
    "                                \n",
    "                        data_bank.append(D/1e-9)\n",
    "                        data_bank.append(Cb)\n",
    "                        data_bank.append(el_rad/1e-6)\n",
    "                        average = sum(In)/2/N\n",
    "                        Av.append(average)\n",
    "                        median = statistics.median(In)\n",
    "                        Med.append(median)\n",
    "                        maximum = max(In)\n",
    "                        Max.append(maximum)\n",
    "                        minimum = min(In)\n",
    "                        Min.append(minimum)\n",
    "                        n, b, patches = plt.hist(In, bins = 20)\n",
    "                        bin_max = np.where(n == n.max())\n",
    "                        maxbin = b[bin_max][0]\n",
    "                        Bin_Max.append(maxbin)\n",
    "                        data_bank.append(maximum/I_ss*1000.)\n",
    "                        data_bank.append(minimum/I_ss*1000.)\n",
    "                        data_bank.append(average/I_ss*1000.)\n",
    "                        #print(len(In))\n",
    "                        for j in range(len(In)):\n",
    "                            In_pass.append(In[j]/I_ss*1000.0)\n",
    "                        #In_pass = [In / I_ss for item in In]\n",
    "                        save_data(data_bank,'test_data_regr20_1m.csv',round((r_p1+r_p2)/2e-6,4))\n",
    "                        In.clear()\n",
    "                        In_pass.clear()\n",
    "                        data_bank.clear()\n",
    "                    \n"
   ]
  },
  {
   "cell_type": "code",
   "execution_count": null,
   "id": "a450efa6-8ad8-4f3f-98a2-9d13546e0302",
   "metadata": {},
   "outputs": [],
   "source": [
    "Av_int = conf_int(Av)\n",
    "Av_val = sum(Av)/runs\n",
    "print(\"Average = \", Av_val, Av_int)\n",
    "Med_int = conf_int(Med)\n",
    "Med_val = sum(Med)/runs\n",
    "print(\"Median = \", Med_val, Med_int)\n",
    "Max_int = conf_int(Max)\n",
    "Max_val = sum(Max)/runs\n",
    "print(\"Maximum = \", Max_val, Max_int)\n",
    "Min_int = conf_int(Min)\n",
    "Min_val = sum(Min)/runs\n",
    "print(\"Minimum = \", Min_val, Min_int)\n",
    "Bin_Max_int = conf_int(Bin_Max)\n",
    "Bin_Max_val = sum(Bin_Max)/runs\n",
    "print(\"Bin_Max = \", Bin_Max_val, Bin_Max_int)"
   ]
  },
  {
   "cell_type": "code",
   "execution_count": null,
   "id": "1bda679a-64ce-4ca2-8679-a4fa03411a74",
   "metadata": {},
   "outputs": [],
   "source": [
    "data_exp = []\n",
    "D = 0.7e-9\n",
    "Cb = 3\n",
    "el_rad = 5e-6\n",
    "F = 96485\n",
    "r_p1 = 0\n",
    "r_p2 = 0\n",
    "I_ss = 4*F*D*Cb*el_rad\n",
    "maximum = 51.54e-12\n",
    "minimum = 7.63e-12\n",
    "average = 27.87e-12\n",
    "data_exp.append(D/1e-9)\n",
    "data_exp.append(Cb)\n",
    "data_exp.append(el_rad/1e-6)\n",
    "data_exp.append(maximum/I_ss*1000.)\n",
    "data_exp.append(minimum/I_ss*1000.)\n",
    "data_exp.append(average/I_ss*1000.)\n",
    "save_data(data_exp,'unknown_data_regr_Gabr_1m.csv',round((r_p1+r_p2)/2e-6,4))"
   ]
  },
  {
   "cell_type": "code",
   "execution_count": null,
   "id": "e5ada34a-2cf2-4856-8cb7-bba64dfc7cd3",
   "metadata": {},
   "outputs": [],
   "source": []
  }
 ],
 "metadata": {
  "kernelspec": {
   "display_name": "Python 3 (ipykernel)",
   "language": "python",
   "name": "python3"
  },
  "language_info": {
   "codemirror_mode": {
    "name": "ipython",
    "version": 3
   },
   "file_extension": ".py",
   "mimetype": "text/x-python",
   "name": "python",
   "nbconvert_exporter": "python",
   "pygments_lexer": "ipython3",
   "version": "3.10.12"
  }
 },
 "nbformat": 4,
 "nbformat_minor": 5
}
