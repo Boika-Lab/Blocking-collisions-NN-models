{
 "cells": [
  {
   "cell_type": "code",
   "execution_count": null,
   "id": "aa612fec-2164-4856-854c-6330a475fee5",
   "metadata": {},
   "outputs": [],
   "source": [
    "import pandas as pd\n",
    "import numpy as np\n",
    "import matplotlib.pyplot as plt\n",
    "import sklearn as skl\n",
    "import random\n",
    "import scipy.stats as st\n",
    "from csv import writer\n",
    "%matplotlib inline\n",
    "N = 20 #number of collisions\n",
    "Cb = 2\n",
    "el_rad = 5E-6\n",
    "D = 0.7E-9\n",
    "F = 96485\n",
    "I_ss = 4*F*D*Cb*el_rad\n",
    "print(I_ss)"
   ]
  },
  {
   "cell_type": "code",
   "execution_count": null,
   "id": "94e0f653-1567-4c62-894a-72679f70360c",
   "metadata": {},
   "outputs": [],
   "source": [
    "Rand = np.random.normal(loc=1.0, scale=0.333, size=N)\n",
    "print(type(Rand))\n",
    "plt.hist(Rand, bins = 20)"
   ]
  },
  {
   "cell_type": "code",
   "execution_count": null,
   "id": "e5f00635-b1ce-4267-966c-bfd0cbdac2cc",
   "metadata": {},
   "outputs": [],
   "source": [
    "for i in range(N):\n",
    "    if Rand[i] < 0:\n",
    "        Rand[i] = 0\n",
    "    "
   ]
  },
  {
   "cell_type": "code",
   "execution_count": null,
   "id": "26ae775f-71ca-42a3-a533-63d5d0249c07",
   "metadata": {},
   "outputs": [],
   "source": [
    "r_p=0.5E-6\n",
    "In=[]\n",
    "for i in range(N):\n",
    "    if Rand[i] > 1:\n",
    "        Fg = -0.7373*Rand[i]**3 + 4.0209*Rand[i]**2 - 7.3858*Rand[i] + 4.6088\n",
    "        current = 1.0806E-09*Fg*(r_p/el_rad)**2\n",
    "        In.append(current)\n",
    "    else:\n",
    "        Fg = 8.9921E-01*Rand[i]**3 - 8.7335E-01*Rand[i]**2 + 4.0039E-01*Rand[i] + 8.0542E-02\n",
    "        current = I_ss*Fg*(r_p/el_rad)**2\n",
    "        In.append(current)\n",
    "print(type(In))\n",
    "len(In)"
   ]
  },
  {
   "cell_type": "code",
   "execution_count": null,
   "id": "f3e52d9a-33d3-43e4-b48f-4b69f352e78b",
   "metadata": {},
   "outputs": [],
   "source": [
    "plt.hist(In, bins=20)"
   ]
  },
  {
   "cell_type": "code",
   "execution_count": null,
   "id": "5b3f8f61-b6f3-4789-810d-38894476623c",
   "metadata": {},
   "outputs": [],
   "source": [
    "av = sum(In)/N\n",
    "print(av)"
   ]
  },
  {
   "cell_type": "code",
   "execution_count": null,
   "id": "40f47ab0-2142-4cb9-acd5-918b352882b4",
   "metadata": {},
   "outputs": [],
   "source": [
    "import statistics\n",
    "statistics.median(In)"
   ]
  },
  {
   "cell_type": "code",
   "execution_count": null,
   "id": "7ebfe48b-1f9f-4a17-a3fd-eeb34a3e0138",
   "metadata": {},
   "outputs": [],
   "source": [
    "print(min(In))\n",
    "print(max(In))"
   ]
  },
  {
   "cell_type": "code",
   "execution_count": null,
   "id": "80f53f1a-e791-4315-b64b-dd8d1bcb1bda",
   "metadata": {},
   "outputs": [],
   "source": [
    "n, b, patches = plt.hist(In, bins = 20)\n",
    "\n",
    "bin_max = np.where(n == n.max())\n",
    "\n",
    "print('maxbin', b[bin_max][0])"
   ]
  },
  {
   "cell_type": "code",
   "execution_count": null,
   "id": "a532dba1-8e4a-4836-9744-e04d8be0db1a",
   "metadata": {},
   "outputs": [],
   "source": [
    "# Adding el_rad, Cb and D\n",
    "In.append(el_rad)\n",
    "In.append(Cb)\n",
    "In.append(D)\n",
    "df = pd.DataFrame(In)\n",
    "  \n",
    "# saving the dataframe\n",
    "df.to_csv('data_example.csv')"
   ]
  },
  {
   "cell_type": "code",
   "execution_count": null,
   "id": "189bed6e-4c25-4f84-a84f-3ea7bed5d5d9",
   "metadata": {},
   "outputs": [],
   "source": [
    "def conf_int(results):\n",
    "    interval = st.t.interval(alpha=0.95, df=len(results)-1, loc=np.mean(results), scale=st.sem(results))\n",
    "    return interval"
   ]
  },
  {
   "cell_type": "code",
   "execution_count": null,
   "id": "09253786-9b6a-4c91-81ef-8fdaecb7e5c6",
   "metadata": {},
   "outputs": [],
   "source": [
    "def save_data(data, filename, label):\n",
    "    data_list = data\n",
    "    \n",
    "    data_list.insert(0, label)\n",
    "    # writing to csv file  \n",
    "    with open(filename, 'a', newline='') as f_object:  \n",
    "        # Pass the CSV  file object to the writer() function\n",
    "        writer_object = writer(f_object)\n",
    "        # Result - a writer object\n",
    "        # Pass the data in the list as an argument into the writerow() function\n",
    "        writer_object.writerow(data_list)  \n",
    "        # Close the file object\n",
    "        f_object.close()\n",
    "    return"
   ]
  },
  {
   "cell_type": "code",
   "execution_count": null,
   "id": "ca894468-3a31-494a-bd6f-604a7b953d00",
   "metadata": {},
   "outputs": [],
   "source": [
    "runs = 250\n",
    "D_list = [2e-9, 1e-9,5e-10]\n",
    "Cb_list = [10, 5, 1]\n",
    "r_p_list = [0.025e-6, 0.05e-6, 0.1e-6, 0.15e-6, 0.2e-6, 0.25e-6, 0.3e-6, 0.35e-6, 0.4e-6, 0.45e-6, 0.5e-6]\n",
    "el_rad_list = [5e-6, 2.5e-6, 1e-6]\n",
    "In = []\n",
    "In_pass = []\n",
    "Av = []\n",
    "Med = []\n",
    "Max = []\n",
    "Min = []\n",
    "Bin_Max = []\n",
    "data_bank=[]\n",
    "\n",
    "for D in D_list:\n",
    "    for Cb in Cb_list:\n",
    "        for el_rad in el_rad_list:\n",
    "            for r_p in r_p_list:\n",
    "                I_ss=4*F*D*Cb*el_rad\n",
    "                \n",
    "                for l in range(runs):\n",
    "                    Rand = np.random.normal(loc=1.0, scale=0.333, size=N)\n",
    "                    for i in range(N):\n",
    "                        if Rand[i] < 0:\n",
    "                            Rand[i] = 0\n",
    "                    for i in range(N):\n",
    "                        if Rand[i] > 1:\n",
    "                            Fg = -0.73725*Rand[i]**3 + 4.0209*Rand[i]**2 - 7.3858*Rand[i] + 4.6088\n",
    "                            current = I_ss*Fg*(r_p/el_rad)**2\n",
    "                            In.append(current)\n",
    "                        else:\n",
    "                            Fg = 8.9921E-01*Rand[i]**3 - 8.7335E-01*Rand[i]**2 + 4.0039E-01*Rand[i] + 8.0542E-02\n",
    "                            current = I_ss*Fg*(r_p/el_rad)**2\n",
    "                            In.append(current)\n",
    "                    data_bank.append(D/1e-9)\n",
    "                    data_bank.append(Cb)\n",
    "                    data_bank.append(el_rad/1e-6)\n",
    "                    average = sum(In)/N\n",
    "                    Av.append(average)\n",
    "                    median = statistics.median(In)\n",
    "                    Med.append(median)\n",
    "                    maximum = max(In)\n",
    "                    Max.append(maximum)\n",
    "                    minimum = min(In)\n",
    "                    Min.append(minimum)\n",
    "                    n, b, patches = plt.hist(In, bins = 20)\n",
    "                    bin_max = np.where(n == n.max())\n",
    "                    maxbin = b[bin_max][0]\n",
    "                    Bin_Max.append(maxbin)\n",
    "                    data_bank.append(maximum/I_ss*1000.)\n",
    "                    data_bank.append(minimum/I_ss*1000.)\n",
    "                    data_bank.append(average/I_ss*1000.)\n",
    "                    #print(len(In))\n",
    "                    for j in range(len(In)):\n",
    "                        In_pass.append(In[j]/I_ss*1000.0)\n",
    "                    #In_pass = [In / I_ss for item in In]\n",
    "                    save_data(data_bank,'train_data_regr20.csv',r_p/1e-6)\n",
    "                    In.clear()\n",
    "                    In_pass.clear()\n",
    "                    data_bank.clear()\n",
    "                    \n"
   ]
  },
  {
   "cell_type": "code",
   "execution_count": null,
   "id": "e0021dab-96d3-4b7b-8ec0-51aa3ed79518",
   "metadata": {},
   "outputs": [],
   "source": [
    "#for l in range(runs):\n",
    "#    Rand = np.random.normal(loc=1.0, scale=0.333, size=N)\n",
    "#    for i in range(N):\n",
    "#        if Rand[i] < 0:\n",
    "#            Rand[i] = 0\n",
    "#    for i in range(N):\n",
    "#        if Rand[i] > 1:\n",
    "#            Fg = -0.73725*Rand[i]**3 + 4.0209*Rand[i]**2 - 7.3858*Rand[i] + 4.6088\n",
    "#            current = I_ss*Fg*(r_p/el_rad)**2\n",
    "#            In.append(current)\n",
    "#        else:\n",
    "#            Fg = 8.9921E-01*Rand[i]**3 - 8.7335E-01*Rand[i]**2 + 4.0039E-01*Rand[i] + 8.0542E-02\n",
    "#            current = I_ss*Fg*(r_p/el_rad)**2\n",
    "#            In.append(current)\n",
    "#    average = sum(In)/N\n",
    "#    Av.append(average)\n",
    "#    median = statistics.median(In)\n",
    "#    Med.append(median)\n",
    "#    maximum = max(In)\n",
    "#    Max.append(maximum)\n",
    "#    minimum = min(In)\n",
    "#    Min.append(minimum)\n",
    "#    n, b, patches = plt.hist(In, bins = 20)\n",
    "#    bin_max = np.where(n == n.max())\n",
    "#    maxbin = b[bin_max][0]\n",
    "#    Bin_Max.append(maxbin)\n",
    "#    #print(len(In))\n",
    "#    for j in range(len(In)):\n",
    "#        In_pass.append(In[j]/I_ss*1000.0)\n",
    "#    #In_pass = [In / I_ss for item in In]\n",
    "#    save_data(In_pass,'test_data.csv',r_p)\n",
    "#    In.clear()\n",
    "#    In_pass.clear()\n"
   ]
  },
  {
   "cell_type": "code",
   "execution_count": null,
   "id": "a450efa6-8ad8-4f3f-98a2-9d13546e0302",
   "metadata": {},
   "outputs": [],
   "source": [
    "Av_int = conf_int(Av)\n",
    "Av_val = sum(Av)/runs\n",
    "print(\"Average = \", Av_val, Av_int)\n",
    "Med_int = conf_int(Med)\n",
    "Med_val = sum(Med)/runs\n",
    "print(\"Median = \", Med_val, Med_int)\n",
    "Max_int = conf_int(Max)\n",
    "Max_val = sum(Max)/runs\n",
    "print(\"Maximum = \", Max_val, Max_int)\n",
    "Min_int = conf_int(Min)\n",
    "Min_val = sum(Min)/runs\n",
    "print(\"Minimum = \", Min_val, Min_int)\n",
    "Bin_Max_int = conf_int(Bin_Max)\n",
    "Bin_Max_val = sum(Bin_Max)/runs\n",
    "print(\"Bin_Max = \", Bin_Max_val, Bin_Max_int)"
   ]
  },
  {
   "cell_type": "code",
   "execution_count": null,
   "id": "1bda679a-64ce-4ca2-8679-a4fa03411a74",
   "metadata": {},
   "outputs": [],
   "source": [
    "data_exp = []\n",
    "D = 0.7e-9\n",
    "Cb = 2\n",
    "el_rad = 5e-6\n",
    "F = 96485\n",
    "r_p = 0\n",
    "I_ss = 4*F*D*Cb*el_rad\n",
    "maximum = 17.51e-12\n",
    "minimum = 1.6e-12\n",
    "average = 5.16e-12\n",
    "data_exp.append(D/1e-9)\n",
    "data_exp.append(Cb)\n",
    "data_exp.append(el_rad/1e-6)\n",
    "data_exp.append(maximum/I_ss*1000.)\n",
    "data_exp.append(minimum/I_ss*1000.)\n",
    "data_exp.append(average/I_ss*1000.)\n",
    "save_data(data_exp,'unknown_data_regr_Gabr3.csv',r_p/1e-6)"
   ]
  },
  {
   "cell_type": "code",
   "execution_count": null,
   "id": "e5ada34a-2cf2-4856-8cb7-bba64dfc7cd3",
   "metadata": {},
   "outputs": [],
   "source": []
  }
 ],
 "metadata": {
  "kernelspec": {
   "display_name": "Python 3 (ipykernel)",
   "language": "python",
   "name": "python3"
  },
  "language_info": {
   "codemirror_mode": {
    "name": "ipython",
    "version": 3
   },
   "file_extension": ".py",
   "mimetype": "text/x-python",
   "name": "python",
   "nbconvert_exporter": "python",
   "pygments_lexer": "ipython3",
   "version": "3.10.12"
  }
 },
 "nbformat": 4,
 "nbformat_minor": 5
}
