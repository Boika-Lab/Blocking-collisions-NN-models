{
 "cells": [
  {
   "cell_type": "code",
   "execution_count": null,
   "id": "d576a8d2-0984-49d3-b1cc-0ac9e7eee209",
   "metadata": {},
   "outputs": [],
   "source": [
    "import numpy as np\n",
    "import pandas as pd\n",
    "import tensorflow as tf\n",
    "from tensorflow import keras\n",
    "import joblib\n",
    "from sklearn.preprocessing import StandardScaler"
   ]
  },
  {
   "cell_type": "code",
   "execution_count": null,
   "id": "2580a4c1-243c-4b3b-affa-1ab7f34fa5b5",
   "metadata": {},
   "outputs": [],
   "source": [
    "# Load the saved model\n",
    "model = keras.models.load_model(\"trained_models_scalers/model_blocking_regr20_NN1.keras\")\n",
    "# Load the scaler\n",
    "scaler = joblib.load(\"trained_models_scalers/scaler_blocking_regr20.save\")"
   ]
  },
  {
   "cell_type": "code",
   "execution_count": null,
   "id": "d2c8b79f-3e48-4783-8567-8152825f2156",
   "metadata": {},
   "outputs": [],
   "source": [
    "unknown_data = pd.read_csv(\"blocking_dataset/unknown_data_regr_Gabr3.csv\", header = None)\n",
    "#unknown_data = pd.read_csv(\"blocking_dataset/unknown_data_regr_Gabr_repeat6.csv\", header = None)\n",
    "unknown_features = unknown_data.iloc[:,1:]\n",
    "unknown_features_full = np.array(unknown_features)\n",
    "unknown_features_full = scaler.transform(unknown_features_full)"
   ]
  },
  {
   "cell_type": "code",
   "execution_count": null,
   "id": "5ff3ca9d-d4a4-4626-9e4d-285bb8b0df7f",
   "metadata": {},
   "outputs": [],
   "source": [
    "# Making predictions\n",
    "X_new = unknown_features_full\n",
    "y_pred = model.predict(X_new)\n",
    "print(y_pred)"
   ]
  },
  {
   "cell_type": "markdown",
   "id": "49809b57-7960-4966-850a-aac57e9879b1",
   "metadata": {},
   "source": []
  }
 ],
 "metadata": {
  "kernelspec": {
   "display_name": "Python 3 (ipykernel)",
   "language": "python",
   "name": "python3"
  },
  "language_info": {
   "codemirror_mode": {
    "name": "ipython",
    "version": 3
   },
   "file_extension": ".py",
   "mimetype": "text/x-python",
   "name": "python",
   "nbconvert_exporter": "python",
   "pygments_lexer": "ipython3",
   "version": "3.10.12"
  }
 },
 "nbformat": 4,
 "nbformat_minor": 5
}
